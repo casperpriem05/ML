{
 "cells": [
  {
   "cell_type": "code",
   "execution_count": 14,
   "metadata": {},
   "outputs": [
    {
     "name": "stderr",
     "output_type": "stream",
     "text": [
      "2025-01-22 13:21:31.603 Thread 'MainThread': missing ScriptRunContext! This warning can be ignored when running in bare mode.\n",
      "2025-01-22 13:21:31.604 Thread 'MainThread': missing ScriptRunContext! This warning can be ignored when running in bare mode.\n",
      "2025-01-22 13:21:31.604 \n",
      "`st.cache` is deprecated and will be removed soon. Please use one of Streamlit's new\n",
      "caching commands, `st.cache_data` or `st.cache_resource`. More information\n",
      "[in our docs](https://docs.streamlit.io/develop/concepts/architecture/caching).\n",
      "\n",
      "**Note**: The behavior of `st.cache` was updated in Streamlit 1.36 to the new caching\n",
      "logic used by `st.cache_data` and `st.cache_resource`. This might lead to some problems\n",
      "or unexpected behavior in certain edge cases.\n",
      "\n",
      "2025-01-22 13:21:31.605 No runtime found, using MemoryCacheStorageManager\n",
      "2025-01-22 13:21:31.606 Thread 'MainThread': missing ScriptRunContext! This warning can be ignored when running in bare mode.\n",
      "2025-01-22 13:21:31.607 Thread 'MainThread': missing ScriptRunContext! This warning can be ignored when running in bare mode.\n",
      "2025-01-22 13:21:31.608 Thread 'MainThread': missing ScriptRunContext! This warning can be ignored when running in bare mode.\n",
      "2025-01-22 13:21:31.608 Thread 'MainThread': missing ScriptRunContext! This warning can be ignored when running in bare mode.\n",
      "2025-01-22 13:21:31.608 Thread 'MainThread': missing ScriptRunContext! This warning can be ignored when running in bare mode.\n",
      "2025-01-22 13:21:31.608 Thread 'MainThread': missing ScriptRunContext! This warning can be ignored when running in bare mode.\n",
      "2025-01-22 13:21:31.609 Thread 'MainThread': missing ScriptRunContext! This warning can be ignored when running in bare mode.\n",
      "2025-01-22 13:21:31.610 Thread 'MainThread': missing ScriptRunContext! This warning can be ignored when running in bare mode.\n",
      "2025-01-22 13:21:31.610 Thread 'MainThread': missing ScriptRunContext! This warning can be ignored when running in bare mode.\n",
      "2025-01-22 13:21:31.611 Thread 'MainThread': missing ScriptRunContext! This warning can be ignored when running in bare mode.\n",
      "2025-01-22 13:21:31.611 Thread 'MainThread': missing ScriptRunContext! This warning can be ignored when running in bare mode.\n"
     ]
    }
   ],
   "source": [
    "import streamlit as st\n",
    "import pandas as pd\n",
    "import librosa\n",
    "import numpy as np\n",
    "from sklearn.metrics.pairwise import cosine_similarity\n",
    "from scipy.stats import skew, kurtosis\n",
    "import joblib\n",
    "\n",
    "# Load your dataset and model\n",
    "#@st.cache_data \n",
    "def load_data_and_model():\n",
    "    # Replace with your actual dataset\n",
    "    clustering_model = joblib.load(\"clustering_model.pkl\")\n",
    "    songs_df = pd.read_csv(\"recommendation_features1.csv\")  # Your dataset with song features\n",
    "    return songs_df, clustering_model\n",
    "\n",
    "songs_df, clustering_model = load_data_and_model()\n",
    "\n",
    "# Function to extract spectral features from an audio file\n",
    "def extract_features(audio_file, sr=22050):\n",
    "    try:\n",
    "        # Load the audio file\n",
    "        y, sr = librosa.load(audio_file, sr=sr)\n",
    "        \n",
    "        # Spectral Features\n",
    "        features = {}\n",
    "        \n",
    "        # MFCCs\n",
    "        mfccs = librosa.feature.mfcc(y=y, sr=sr, n_mfcc=13)\n",
    "        features['mfcc_mean'] = np.mean(mfccs, axis=1)\n",
    "        features['mfcc_var'] = np.var(mfccs, axis=1)\n",
    "\n",
    "        # Feature Trajectories\n",
    "        mfcc_delta = librosa.feature.delta(mfccs)\n",
    "        features['mfcc_delta_mean'] = np.mean(mfcc_delta, axis=1)\n",
    "        features['mfcc_delta_var'] = np.var(mfcc_delta, axis=1)\n",
    "        \n",
    "        # Spectral Centroid\n",
    "        spectral_centroid = librosa.feature.spectral_centroid(y=y, sr=sr)\n",
    "        features['spectral_centroid_mean'] = np.mean(spectral_centroid)\n",
    "        features['spectral_centroid_var'] = np.var(spectral_centroid)\n",
    "        \n",
    "        # Spectral Roll-off\n",
    "        spectral_rolloff = librosa.feature.spectral_rolloff(y=y, sr=sr, roll_percent=0.85)\n",
    "        features['spectral_rolloff_mean'] = np.mean(spectral_rolloff)\n",
    "        features['spectral_rolloff_var'] = np.var(spectral_rolloff)\n",
    "        \n",
    "        # Spectral Flux\n",
    "        spectral_flux = librosa.onset.onset_strength(y=y, sr=sr)\n",
    "        features['spectral_flux_mean'] = np.mean(spectral_flux)\n",
    "        features['spectral_flux_var'] = np.var(spectral_flux)\n",
    "        \n",
    "        # Spectral Contrast\n",
    "        spectral_contrast = librosa.feature.spectral_contrast(y=y, sr=sr)\n",
    "        features['spectral_contrast_mean'] = np.mean(spectral_contrast, axis=1)\n",
    "        features['spectral_contrast_var'] = np.var(spectral_contrast, axis=1)\n",
    "\n",
    "        envelope = np.abs(y)\n",
    "        features['envelope_mean'] = np.mean(envelope)\n",
    "        features['envelope_var'] = np.var(envelope)\n",
    "\n",
    "        # Spectral Bandwidth\n",
    "        spectral_bandwidth = librosa.feature.spectral_bandwidth(y=y, sr=sr)\n",
    "        features['spectral_bandwidth_mean'] = np.mean(spectral_bandwidth)\n",
    "        features['spectral_bandwidth_var'] = np.var(spectral_bandwidth)\n",
    "\n",
    "        # Time-Domain Features\n",
    "        features['rms_mean'] = np.mean(librosa.feature.rms(y=y))\n",
    "        features['rms_var'] = np.var(librosa.feature.rms(y=y))\n",
    "        features['energy'] = np.sum(y ** 2) / len(y)  # Signal energy\n",
    "        features['amplitude_mean'] = np.mean(np.abs(y))\n",
    "        features['amplitude_var'] = np.var(np.abs(y))\n",
    "\n",
    "        # Temporal Evolution\n",
    "        dynamic_range = np.max(y) - np.min(y)\n",
    "        features['dynamic_range'] = dynamic_range\n",
    "\n",
    "        # Rhythm Features\n",
    "        tempo, beat_frames = librosa.beat.beat_track(y=y, sr=sr)\n",
    "        features['tempo'] = tempo\n",
    "        beat_strength = librosa.onset.onset_strength(y=y, sr=sr)\n",
    "        features['beat_strength_mean'] = np.mean(beat_strength)\n",
    "        features['beat_strength_var'] = np.var(beat_strength)\n",
    "\n",
    "        # Rhythmic Regularity\n",
    "        if len(beat_frames) > 1:\n",
    "            # Inter-Beat Interval (IBI) Variability\n",
    "            ibi = np.diff(beat_frames) / sr  # Convert frame difference to seconds\n",
    "            features['ibi_var'] = np.var(ibi)\n",
    "            features['ibi_mean'] = np.mean(ibi)\n",
    "\n",
    "        # Harmonic Features\n",
    "        # Key and Scale Estimation\n",
    "        chroma = librosa.feature.chroma_cqt(y=y, sr=sr)\n",
    "        features['chroma_mean'] = np.mean(chroma, axis=1)\n",
    "        features['chroma_var'] = np.var(chroma, axis=1)\n",
    "        \n",
    "        # Tonnetz\n",
    "        tonnetz = librosa.feature.tonnetz(y=y, sr=sr)\n",
    "        features['tonnetz_mean'] = np.mean(tonnetz, axis=1)\n",
    "        features['tonnetz_var'] = np.var(tonnetz, axis=1)\n",
    "\n",
    "        # Harmonic-to-Percussive Ratio\n",
    "        harmonic, percussive = librosa.effects.hpss(y)\n",
    "        hpr = np.mean(harmonic) / (np.mean(percussive) + 1e-6)\n",
    "        features['hpr'] = hpr\n",
    "\n",
    "        # Genre-Specific Features\n",
    "        # Harmonic and Percussive Energy\n",
    "        features['harmonic_energy'] = np.sum(harmonic ** 2)\n",
    "        features['percussive_energy'] = np.sum(percussive ** 2)\n",
    "\n",
    "        # Zero-Crossing Rate\n",
    "        zcr = librosa.feature.zero_crossing_rate(y)\n",
    "        features['zcr_mean'] = np.mean(zcr)\n",
    "        features['zcr_var'] = np.var(zcr)\n",
    "\n",
    "        # Onset Autocorrelation (Rhythmic Regularity)\n",
    "        onset_acf = librosa.autocorrelate(librosa.onset.onset_strength(y=y, sr=sr), max_size=len(y)//2)\n",
    "        features['onset_acf_mean'] = np.mean(onset_acf)\n",
    "        features['onset_acf_var'] = np.var(onset_acf)\n",
    "\n",
    "        # Statistics (Skewness and Kurtosis)\n",
    "        features['skewness'] = skew(y)\n",
    "        features['kurtosis'] = kurtosis(y)\n",
    "        \n",
    "        # Combine features into a single vector\n",
    "        feature_vector = np.hstack(list(features.values()))\n",
    "        return feature_vector\n",
    "    except Exception as e:\n",
    "        st.error(f\"Error processing audio: {e}\")\n",
    "        return None\n",
    "\n",
    "\n",
    "\n",
    "# Add clustering logic to the recommendation function\n",
    "def recommend_songs(features, songs_df, clustering_model, num_recommendations=5):\n",
    "    # Extract the feature columns from the dataset\n",
    "    feature_cols = [col for col in songs_df.columns if col.startswith(\"feature_\")]\n",
    "\n",
    "    # Predict the cluster of the input song\n",
    "    predicted_cluster = clustering_model.predict([features])[0]\n",
    "\n",
    "    # Filter dataset to include only songs from the same cluster\n",
    "    cluster_songs = songs_df[songs_df['cluster'] == predicted_cluster]\n",
    "\n",
    "    # Compute similarity (e.g., cosine similarity) within the cluster\n",
    "    cluster_features = cluster_songs[feature_cols].values\n",
    "    similarities = cosine_similarity([features], cluster_features).flatten()\n",
    "    cluster_songs['similarity'] = similarities\n",
    "\n",
    "    # Sort by similarity and return top recommendations\n",
    "    recommendations = cluster_songs.sort_values(by='similarity', ascending=False)\n",
    "    return recommendations[['file_name', 'similarity', 'audio_path']].head(num_recommendations)\n",
    "\n",
    "\n",
    "# Streamlit UI\n",
    "st.title(\"Song Recommendation App 🎵\")\n",
    "st.write(\"Upload a song to get 5 similar song recommendations!\")\n",
    "\n",
    "# File uploader\n",
    "uploaded_file = st.file_uploader(\"Upload a song file (MP3, WAV, etc.)\", type=[\"mp3\", \"wav\"])\n",
    "\n",
    "if uploaded_file:\n",
    "    # Display an audio player for the uploaded file\n",
    "    st.subheader(\"Uploaded Song Preview:\")\n",
    "    st.audio(uploaded_file, format=\"audio/mp3\")  # Play the uploaded song\n",
    "\n",
    "    # Extract features from the uploaded file\n",
    "    st.write(\"Processing uploaded song...\")\n",
    "    song_features = extract_features(uploaded_file)\n",
    "\n",
    "    if song_features is not None:\n",
    "        st.write(\"Finding similar songs...\")\n",
    "\n",
    "        # Recommend similar songs (with clustering logic)\n",
    "        recommendations = recommend_songs(song_features, songs_df, clustering_model)\n",
    "\n",
    "        st.write(\"Here are 5 similar songs:\")\n",
    "\n",
    "        # Display recommendations with audio playback\n",
    "        for _, row in recommendations.iterrows():\n",
    "            st.subheader(row['file_name'])\n",
    "            st.write(f\"Similarity Score: {row['similarity']:.2f}\")\n",
    "            st.audio(row['audio_path'], format=\"audio/mp3\")\n",
    "    else:\n",
    "        st.error(\"Failed to extract features from the uploaded file.\")\n",
    "\n"
   ]
  },
  {
   "cell_type": "code",
   "execution_count": 9,
   "metadata": {},
   "outputs": [
    {
     "name": "stderr",
     "output_type": "stream",
     "text": [
      "<>:1: SyntaxWarning: invalid escape sequence '\\m'\n",
      "<>:1: SyntaxWarning: invalid escape sequence '\\m'\n",
      "C:\\Users\\jassa\\AppData\\Local\\Temp\\ipykernel_17644\\2780619743.py:1: SyntaxWarning: invalid escape sequence '\\m'\n",
      "  file1 = extract_features('unlabeled\\m00372.wav')\n"
     ]
    }
   ],
   "source": [
    "file1 = extract_features('unlabeled\\m00372.wav')\t"
   ]
  },
  {
   "cell_type": "code",
   "execution_count": 10,
   "metadata": {},
   "outputs": [
    {
     "data": {
      "text/plain": [
       "{'mfcc_mean': array([-15.625049,  99.14236 , -45.630257,  55.01213 , -18.020164,\n",
       "         23.897812, -19.600197,  27.33792 , -15.103914,  18.797401,\n",
       "        -16.146687,   9.214215, -16.21849 ], dtype=float32),\n",
       " 'mfcc_var': array([360.38052 , 164.04086 , 135.57751 ,  70.57669 ,  29.895018,\n",
       "         45.264465,  35.989407,  39.737305,  30.706875,  31.762339,\n",
       "         23.08019 ,  46.400738,  24.95767 ], dtype=float32),\n",
       " 'mfcc_delta_mean': array([ 4.4510301e-02, -2.0789739e-02,  1.6915424e-02, -1.9022228e-02,\n",
       "         3.9327713e-03,  1.5005129e-02, -2.6202472e-03,  1.3987110e-02,\n",
       "        -9.4788847e-04,  1.3330526e-02,  4.7453549e-03, -3.3032277e-04,\n",
       "         2.3585369e-05], dtype=float32),\n",
       " 'mfcc_delta_var': array([6.6074505 , 4.671716  , 2.840617  , 1.8381273 , 0.84295166,\n",
       "        0.85338914, 1.206587  , 0.9038652 , 1.0534309 , 0.76987416,\n",
       "        0.81312954, 0.9787554 , 0.88086015], dtype=float32),\n",
       " 'spectral_centroid_mean': np.float64(2442.504289617461),\n",
       " 'spectral_centroid_var': np.float64(87511.56635064355),\n",
       " 'spectral_rolloff_mean': np.float64(4728.594814928944),\n",
       " 'spectral_rolloff_var': np.float64(370432.75521058764),\n",
       " 'spectral_flux_mean': np.float32(0.99403846),\n",
       " 'spectral_flux_var': np.float32(0.21760525),\n",
       " 'spectral_contrast_mean': array([20.62639361, 13.09037485, 16.53841758, 15.91526467, 15.70207395,\n",
       "        16.77670032, 44.18802417]),\n",
       " 'spectral_contrast_var': array([11.15312899, 14.3135834 , 14.24786167,  7.14048269,  4.62237152,\n",
       "         2.95550947,  3.98065822]),\n",
       " 'envelope_mean': np.float32(0.14526646),\n",
       " 'envelope_var': np.float32(0.013061778),\n",
       " 'spectral_bandwidth_mean': np.float64(2102.881568574062),\n",
       " 'spectral_bandwidth_var': np.float64(30202.623665565596),\n",
       " 'rms_mean': np.float32(0.18228553),\n",
       " 'rms_var': np.float32(0.00090470596),\n",
       " 'energy': np.float32(0.034164127),\n",
       " 'amplitude_mean': np.float32(0.14526646),\n",
       " 'amplitude_var': np.float32(0.013061778),\n",
       " 'dynamic_range': np.float32(1.7658386),\n",
       " 'tempo': array([99.38401442]),\n",
       " 'beat_strength_mean': np.float32(0.99403846),\n",
       " 'beat_strength_var': np.float32(0.21760525),\n",
       " 'ibi_var': np.float64(1.2819018595932506e-09),\n",
       " 'ibi_mean': np.float64(0.0011999244142101284),\n",
       " 'chroma_mean': array([0.46907362, 0.4007722 , 0.54946375, 0.33611268, 0.5154155 ,\n",
       "        0.40235612, 0.4582478 , 0.5216043 , 0.510075  , 0.83616954,\n",
       "        0.56055444, 0.46870828], dtype=float32),\n",
       " 'chroma_var': array([0.0534292 , 0.03204982, 0.08273297, 0.01738255, 0.02850018,\n",
       "        0.02520561, 0.03560452, 0.06375628, 0.04812995, 0.06443337,\n",
       "        0.05225986, 0.04445837], dtype=float32),\n",
       " 'tonnetz_mean': array([ 0.11909383,  0.02023233, -0.06305851, -0.0251179 ,  0.00066356,\n",
       "         0.01161762]),\n",
       " 'tonnetz_var': array([0.00862443, 0.00245198, 0.00539478, 0.01077005, 0.00206632,\n",
       "        0.00093715]),\n",
       " 'hpr': np.float32(0.02660039),\n",
       " 'harmonic_energy': np.float32(10510.847),\n",
       " 'percussive_energy': np.float32(4023.421),\n",
       " 'zcr_mean': np.float64(0.14982190762761022),\n",
       " 'zcr_var': np.float64(0.0010830232940035366),\n",
       " 'onset_acf_mean': np.float32(639.4176),\n",
       " 'onset_acf_var': np.float32(138399.72),\n",
       " 'skewness': np.float64(0.007548300549387932),\n",
       " 'kurtosis': np.float32(0.3027289)}"
      ]
     },
     "execution_count": 10,
     "metadata": {},
     "output_type": "execute_result"
    }
   ],
   "source": [
    "file1"
   ]
  },
  {
   "cell_type": "code",
   "execution_count": 11,
   "metadata": {},
   "outputs": [
    {
     "name": "stdout",
     "output_type": "stream",
     "text": [
      "^C\n"
     ]
    }
   ],
   "source": [
    "!python -m streamlit hello"
   ]
  },
  {
   "cell_type": "code",
   "execution_count": 9,
   "metadata": {},
   "outputs": [
    {
     "name": "stdout",
     "output_type": "stream",
     "text": [
      "^C\n"
     ]
    }
   ],
   "source": [
    "!streamlit run recommendation_app.py"
   ]
  },
  {
   "cell_type": "code",
   "execution_count": 8,
   "metadata": {},
   "outputs": [
    {
     "name": "stdout",
     "output_type": "stream",
     "text": [
      "^C\n"
     ]
    }
   ],
   "source": [
    "!streamlit run test_app.py\n"
   ]
  },
  {
   "cell_type": "code",
   "execution_count": 17,
   "metadata": {},
   "outputs": [
    {
     "name": "stdout",
     "output_type": "stream",
     "text": [
      "Audio paths added successfully!\n"
     ]
    }
   ],
   "source": [
    "import pandas as pd\n",
    "import os\n",
    "\n",
    "# Load your dataset\n",
    "songs_df = pd.read_csv(\"recommendation_features.csv\")\n",
    "\n",
    "# Define the folder where audio files are stored\n",
    "audio_folder = \"unlabeled\"\n",
    "\n",
    "# Generate the audio_path column by mapping filenames\n",
    "songs_df['audio_path'] = songs_df['file_name'].apply(\n",
    "    lambda name: os.path.join(audio_folder, f\"{name}\")  # Adjust the extension if needed\n",
    ")\n",
    "\n",
    "# Save the updated dataset\n",
    "songs_df.to_csv(\"recommendation_features1.csv\", index=False)\n",
    "print(\"Audio paths added successfully!\")\n"
   ]
  },
  {
   "cell_type": "code",
   "execution_count": null,
   "metadata": {},
   "outputs": [],
   "source": []
  }
 ],
 "metadata": {
  "kernelspec": {
   "display_name": "Python 3",
   "language": "python",
   "name": "python3"
  },
  "language_info": {
   "codemirror_mode": {
    "name": "ipython",
    "version": 3
   },
   "file_extension": ".py",
   "mimetype": "text/x-python",
   "name": "python",
   "nbconvert_exporter": "python",
   "pygments_lexer": "ipython3",
   "version": "3.12.6"
  }
 },
 "nbformat": 4,
 "nbformat_minor": 2
}
